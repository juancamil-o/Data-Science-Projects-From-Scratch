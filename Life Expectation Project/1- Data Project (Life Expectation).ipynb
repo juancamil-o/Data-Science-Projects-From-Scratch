{
 "cells": [
  {
   "cell_type": "markdown",
   "id": "a60adef9",
   "metadata": {},
   "source": [
    "# Life Expectancy prediction with Polynomial Regression\n"
   ]
  },
  {
   "cell_type": "code",
   "execution_count": 25,
   "id": "7c493a1d",
   "metadata": {},
   "outputs": [],
   "source": [
    "#Author: Juan Camilo Pimienta Gomez"
   ]
  },
  {
   "cell_type": "markdown",
   "id": "1658137f",
   "metadata": {},
   "source": [
    "### This code implements a prediction for life expectancy in 235 countries until 2030 using Poilynomial Regression."
   ]
  },
  {
   "cell_type": "code",
   "execution_count": 1,
   "id": "b63cc4f3",
   "metadata": {},
   "outputs": [],
   "source": [
    "#imports needed to analize the data\n",
    "import pandas as pd\n",
    "import numpy as np\n",
    "import csv\n",
    "import matplotlib.pyplot as plt\n",
    "import seaborn as sns\n",
    "import math\n",
    "from math import log\n",
    "from sklearn.preprocessing import PolynomialFeatures \n",
    "from sklearn.linear_model import LinearRegression \n",
    "from scipy import stats"
   ]
  },
  {
   "cell_type": "markdown",
   "id": "f90197d9",
   "metadata": {},
   "source": [
    "## Importing csv into a DataFrame (this data set comes from OurWorldInData.com)"
   ]
  },
  {
   "cell_type": "code",
   "execution_count": 2,
   "id": "89c35af9",
   "metadata": {},
   "outputs": [
    {
     "data": {
      "text/html": [
       "<div>\n",
       "<style scoped>\n",
       "    .dataframe tbody tr th:only-of-type {\n",
       "        vertical-align: middle;\n",
       "    }\n",
       "\n",
       "    .dataframe tbody tr th {\n",
       "        vertical-align: top;\n",
       "    }\n",
       "\n",
       "    .dataframe thead th {\n",
       "        text-align: right;\n",
       "    }\n",
       "</style>\n",
       "<table border=\"1\" class=\"dataframe\">\n",
       "  <thead>\n",
       "    <tr style=\"text-align: right;\">\n",
       "      <th></th>\n",
       "      <th>Entity</th>\n",
       "      <th>Code</th>\n",
       "      <th>Year</th>\n",
       "      <th>Life expectancy at birth (historical)</th>\n",
       "    </tr>\n",
       "  </thead>\n",
       "  <tbody>\n",
       "    <tr>\n",
       "      <th>0</th>\n",
       "      <td>Afghanistan</td>\n",
       "      <td>AFG</td>\n",
       "      <td>1950</td>\n",
       "      <td>27.7</td>\n",
       "    </tr>\n",
       "    <tr>\n",
       "      <th>1</th>\n",
       "      <td>Afghanistan</td>\n",
       "      <td>AFG</td>\n",
       "      <td>1951</td>\n",
       "      <td>28.0</td>\n",
       "    </tr>\n",
       "    <tr>\n",
       "      <th>2</th>\n",
       "      <td>Afghanistan</td>\n",
       "      <td>AFG</td>\n",
       "      <td>1952</td>\n",
       "      <td>28.4</td>\n",
       "    </tr>\n",
       "    <tr>\n",
       "      <th>3</th>\n",
       "      <td>Afghanistan</td>\n",
       "      <td>AFG</td>\n",
       "      <td>1953</td>\n",
       "      <td>28.9</td>\n",
       "    </tr>\n",
       "    <tr>\n",
       "      <th>4</th>\n",
       "      <td>Afghanistan</td>\n",
       "      <td>AFG</td>\n",
       "      <td>1954</td>\n",
       "      <td>29.2</td>\n",
       "    </tr>\n",
       "  </tbody>\n",
       "</table>\n",
       "</div>"
      ],
      "text/plain": [
       "        Entity Code  Year  Life expectancy at birth (historical)\n",
       "0  Afghanistan  AFG  1950                                   27.7\n",
       "1  Afghanistan  AFG  1951                                   28.0\n",
       "2  Afghanistan  AFG  1952                                   28.4\n",
       "3  Afghanistan  AFG  1953                                   28.9\n",
       "4  Afghanistan  AFG  1954                                   29.2"
      ]
     },
     "execution_count": 2,
     "metadata": {},
     "output_type": "execute_result"
    }
   ],
   "source": [
    "years = list(range(1990,2020))\n",
    "dfLE = pd.read_csv('life-expectancy.csv')\n",
    "dfLE.head()\n"
   ]
  },
  {
   "cell_type": "markdown",
   "id": "8f5ecf34",
   "metadata": {},
   "source": [
    "## Checking that all countries have a sufficient amount of data to make a regression (at least 50 values each country)"
   ]
  },
  {
   "cell_type": "code",
   "execution_count": 3,
   "id": "5d882640",
   "metadata": {},
   "outputs": [
    {
     "name": "stdout",
     "output_type": "stream",
     "text": [
      "Number of Countries with more than 50 values:  238\n",
      "Number of Countries on the original DataFrame  238\n"
     ]
    }
   ],
   "source": [
    "#Cleaning data set from N/A values\n",
    "dfLE = dfLE[dfLE['Code'].notna()]\n",
    "countries = dfLE['Code'].unique()\n",
    "\n",
    "numberOfCountriesProcessed= []\n",
    "\n",
    "for country in countries:\n",
    "    newCountry = dfLE[(dfLE['Code'] == country)]\n",
    "    if (len(newCountry) > 50) :\n",
    "        numberOfCountriesProcessed.append(newCountry.iloc[0]['Entity'])\n",
    "\n",
    "print('Number of Countries with more than 50 values: ', len(numberOfCountriesProcessed))\n",
    "print('Number of Countries on the original DataFrame ', len(countries))"
   ]
  },
  {
   "cell_type": "markdown",
   "id": "16d1fef4",
   "metadata": {},
   "source": [
    "## We are going to process JAPAN for this example"
   ]
  },
  {
   "cell_type": "code",
   "execution_count": 4,
   "id": "2a71323a",
   "metadata": {},
   "outputs": [
    {
     "name": "stderr",
     "output_type": "stream",
     "text": [
      "C:\\Users\\jucap\\AppData\\Local\\Temp\\ipykernel_10372\\1646724997.py:8: UserWarning: color is redundantly defined by the 'color' keyword argument and the fmt string \"go-\" (-> color='g'). The keyword argument will take precedence.\n",
      "  plt.plot(x1,y1,'go-', label = 'line 1', linewidth = 1 , color = 'blue')\n"
     ]
    },
    {
     "data": {
      "image/png": "[encoded data removed]",
      "text/plain": [
       "<Figure size 640x480 with 1 Axes>"
      ]
     },
     "metadata": {},
     "output_type": "display_data"
    }
   ],
   "source": [
    "code = 'JPN'\n",
    "dfLEJP =  dfLE[(dfLE['Code'] == 'JPN')]\n",
    "#dfLEJP.head()\n",
    "\n",
    "x1 = dfLEJP['Year'].values\n",
    "y1 = dfLEJP['Life expectancy at birth (historical)'].values\n",
    "#newDF.tail()\n",
    "plt.plot(x1,y1,'go-', label = 'line 1', linewidth = 1 , color = 'blue')\n",
    "plt.xlabel('Year')\n",
    "plt.ylabel('Life Expectancy')\n",
    "plt.title('Graph for Year vs Life Expectancy in Japan')\n",
    "plt.show()\n"
   ]
  },
  {
   "cell_type": "markdown",
   "id": "523035bc",
   "metadata": {},
   "source": [
    "### With the previous graphic we can see that there are values that can affect the accuracy of our prediction"
   ]
  },
  {
   "cell_type": "markdown",
   "id": "80f35803",
   "metadata": {},
   "source": [
    "## For that reason, we are going to clean the data set using the Z-score standard by checking the standard deviation for each point "
   ]
  },
  {
   "cell_type": "code",
   "execution_count": 16,
   "id": "01401a72",
   "metadata": {},
   "outputs": [],
   "source": [
    "dfLE2 = dfLE\n",
    "dfLE2 = dfLE2[(dfLE2['Code'] == code)]\n",
    "dfLE2 = dfLE2[dfLE2['Year'] > 1900]\n",
    "dfLE2['LE zscore'] = stats.zscore(dfLE2['Life expectancy at birth (historical)'])\n",
    "dfLE2 = dfLE2[(dfLE2['LE zscore'] > -3) & (dfLE2['LE zscore'] < 3)]"
   ]
  },
  {
   "cell_type": "code",
   "execution_count": 17,
   "id": "18d65ed7",
   "metadata": {},
   "outputs": [
    {
     "name": "stderr",
     "output_type": "stream",
     "text": [
      "C:\\Users\\jucap\\AppData\\Local\\Temp\\ipykernel_10372\\2753222243.py:1: UserWarning: color is redundantly defined by the 'color' keyword argument and the fmt string \"go-\" (-> color='g'). The keyword argument will take precedence.\n",
      "  plt.plot(dfLE2['Year'].values,dfLE2['Life expectancy at birth (historical)'].values,'go-', label = 'line 1', linewidth = 1 , color = 'blue')\n"
     ]
    },
    {
     "data": {
      "image/png": "[encoded data removed]",
      "text/plain": [
       "<Figure size 640x480 with 1 Axes>"
      ]
     },
     "metadata": {},
     "output_type": "display_data"
    }
   ],
   "source": [
    "plt.plot(dfLE2['Year'].values,dfLE2['Life expectancy at birth (historical)'].values,'go-', label = 'line 1', linewidth = 1 , color = 'blue')\n",
    "plt.xlabel('Year')\n",
    "plt.ylabel('Life Expectancy')\n",
    "plt.title('Graph for Year vs Life Expectancy in Japan')\n",
    "plt.show()"
   ]
  },
  {
   "cell_type": "markdown",
   "id": "bb2a11f8",
   "metadata": {},
   "source": [
    "## Right after this, we are going to create a degree 2 polynomial this because the behavior of the graph, a simple linear regression is not enough."
   ]
  },
  {
   "cell_type": "code",
   "execution_count": 18,
   "id": "e6785a12",
   "metadata": {},
   "outputs": [],
   "source": [
    "x = dfLE2['Year'].values\n",
    "y = dfLE2['Life expectancy at birth (historical)'].values\n",
    "        \n",
    "poly_features = PolynomialFeatures(degree = 2, include_bias = False)\n",
    "    \n",
    "x = x.reshape(-1,1)\n",
    "x_poly = poly_features.fit_transform(x)"
   ]
  },
  {
   "cell_type": "markdown",
   "id": "42c1f6ae",
   "metadata": {},
   "source": [
    "### Now that our data in the X axis has been converted into a degree 2 polynomial, we can apply a LinearRegression object and predict (until 2030 for our example)"
   ]
  },
  {
   "cell_type": "code",
   "execution_count": 19,
   "id": "4c5b8dab",
   "metadata": {},
   "outputs": [],
   "source": [
    "reg = LinearRegression()\n",
    "reg.fit(x_poly, y)\n",
    "\n",
    "x_vals = list(range(2022,2030))\n",
    "x_vals = np.array(x_vals)\n",
    "x_vals = x_vals.reshape(-1,1)\n",
    "\n",
    "x_vals_poly = poly_features.transform(x_vals)\n",
    "\n",
    "y_vals = reg.predict(x_vals_poly)"
   ]
  },
  {
   "cell_type": "markdown",
   "id": "247ff107",
   "metadata": {},
   "source": [
    "### Finally we are going to insert the new values and clean up the dataframe "
   ]
  },
  {
   "cell_type": "code",
   "execution_count": 20,
   "id": "60d1a770",
   "metadata": {},
   "outputs": [
    {
     "name": "stderr",
     "output_type": "stream",
     "text": [
      "C:\\Users\\jucap\\AppData\\Local\\Temp\\ipykernel_10372\\365287430.py:3: FutureWarning: The frame.append method is deprecated and will be removed from pandas in a future version. Use pandas.concat instead.\n",
      "  dfLE2 = dfLE2.append(pd.Series(newColumn, index=dfLE2.columns[:len(newColumn)]), ignore_index=True)\n"
     ]
    }
   ],
   "source": [
    "for idx, x in enumerate(range(2022,2030)):\n",
    "    newColumn = [dfLE2.iloc[1]['Entity'], code, x, y_vals[idx]]\n",
    "    dfLE2 = dfLE2.append(pd.Series(newColumn, index=dfLE2.columns[:len(newColumn)]), ignore_index=True)\n",
    "del dfLE2['LE zscore']"
   ]
  },
  {
   "cell_type": "markdown",
   "id": "5b760687",
   "metadata": {},
   "source": [
    "### Let's see the final result"
   ]
  },
  {
   "cell_type": "code",
   "execution_count": 21,
   "id": "7c21155d",
   "metadata": {},
   "outputs": [
    {
     "data": {
      "image/png": "[encoded data removed]",
      "text/plain": [
       "<Figure size 640x480 with 1 Axes>"
      ]
     },
     "metadata": {},
     "output_type": "display_data"
    }
   ],
   "source": [
    "x1 = dfLE2['Year'].values\n",
    "y1 = dfLE2['Life expectancy at birth (historical)'].values\n",
    "dfLE2.tail()\n",
    "plt.plot(x1,y1,'go-', label = 'line 1', linewidth = 1)\n",
    "plt.xlabel('Year')\n",
    "plt.ylabel('Life Expectancy')\n",
    "plt.title('Graph for Year vs Life Expectancy in Japan')\n",
    "plt.show()"
   ]
  },
  {
   "cell_type": "markdown",
   "id": "1068b5b7",
   "metadata": {},
   "source": [
    "## Predicted values"
   ]
  },
  {
   "cell_type": "code",
   "execution_count": 23,
   "id": "b22bc064",
   "metadata": {},
   "outputs": [
    {
     "data": {
      "text/html": [
       "<div>\n",
       "<style scoped>\n",
       "    .dataframe tbody tr th:only-of-type {\n",
       "        vertical-align: middle;\n",
       "    }\n",
       "\n",
       "    .dataframe tbody tr th {\n",
       "        vertical-align: top;\n",
       "    }\n",
       "\n",
       "    .dataframe thead th {\n",
       "        text-align: right;\n",
       "    }\n",
       "</style>\n",
       "<table border=\"1\" class=\"dataframe\">\n",
       "  <thead>\n",
       "    <tr style=\"text-align: right;\">\n",
       "      <th></th>\n",
       "      <th>Entity</th>\n",
       "      <th>Code</th>\n",
       "      <th>Year</th>\n",
       "      <th>Life expectancy at birth (historical)</th>\n",
       "    </tr>\n",
       "  </thead>\n",
       "  <tbody>\n",
       "    <tr>\n",
       "      <th>80</th>\n",
       "      <td>Japan</td>\n",
       "      <td>JPN</td>\n",
       "      <td>2020</td>\n",
       "      <td>84.700000</td>\n",
       "    </tr>\n",
       "    <tr>\n",
       "      <th>81</th>\n",
       "      <td>Japan</td>\n",
       "      <td>JPN</td>\n",
       "      <td>2021</td>\n",
       "      <td>84.800000</td>\n",
       "    </tr>\n",
       "    <tr>\n",
       "      <th>82</th>\n",
       "      <td>Japan</td>\n",
       "      <td>JPN</td>\n",
       "      <td>2022</td>\n",
       "      <td>85.272959</td>\n",
       "    </tr>\n",
       "    <tr>\n",
       "      <th>83</th>\n",
       "      <td>Japan</td>\n",
       "      <td>JPN</td>\n",
       "      <td>2023</td>\n",
       "      <td>85.388239</td>\n",
       "    </tr>\n",
       "    <tr>\n",
       "      <th>84</th>\n",
       "      <td>Japan</td>\n",
       "      <td>JPN</td>\n",
       "      <td>2024</td>\n",
       "      <td>85.497840</td>\n",
       "    </tr>\n",
       "    <tr>\n",
       "      <th>85</th>\n",
       "      <td>Japan</td>\n",
       "      <td>JPN</td>\n",
       "      <td>2025</td>\n",
       "      <td>85.601761</td>\n",
       "    </tr>\n",
       "    <tr>\n",
       "      <th>86</th>\n",
       "      <td>Japan</td>\n",
       "      <td>JPN</td>\n",
       "      <td>2026</td>\n",
       "      <td>85.700001</td>\n",
       "    </tr>\n",
       "    <tr>\n",
       "      <th>87</th>\n",
       "      <td>Japan</td>\n",
       "      <td>JPN</td>\n",
       "      <td>2027</td>\n",
       "      <td>85.792561</td>\n",
       "    </tr>\n",
       "    <tr>\n",
       "      <th>88</th>\n",
       "      <td>Japan</td>\n",
       "      <td>JPN</td>\n",
       "      <td>2028</td>\n",
       "      <td>85.879441</td>\n",
       "    </tr>\n",
       "    <tr>\n",
       "      <th>89</th>\n",
       "      <td>Japan</td>\n",
       "      <td>JPN</td>\n",
       "      <td>2029</td>\n",
       "      <td>85.960641</td>\n",
       "    </tr>\n",
       "  </tbody>\n",
       "</table>\n",
       "</div>"
      ],
      "text/plain": [
       "   Entity Code  Year  Life expectancy at birth (historical)\n",
       "80  Japan  JPN  2020                              84.700000\n",
       "81  Japan  JPN  2021                              84.800000\n",
       "82  Japan  JPN  2022                              85.272959\n",
       "83  Japan  JPN  2023                              85.388239\n",
       "84  Japan  JPN  2024                              85.497840\n",
       "85  Japan  JPN  2025                              85.601761\n",
       "86  Japan  JPN  2026                              85.700001\n",
       "87  Japan  JPN  2027                              85.792561\n",
       "88  Japan  JPN  2028                              85.879441\n",
       "89  Japan  JPN  2029                              85.960641"
      ]
     },
     "execution_count": 23,
     "metadata": {},
     "output_type": "execute_result"
    }
   ],
   "source": [
    "dfLE2.tail(10)"
   ]
  }
 ],
 "metadata": {
  "kernelspec": {
   "display_name": "Python 3 (ipykernel)",
   "language": "python",
   "name": "python3"
  },
  "language_info": {
   "codemirror_mode": {
    "name": "ipython",
    "version": 3
   },
   "file_extension": ".py",
   "mimetype": "text/x-python",
   "name": "python",
   "nbconvert_exporter": "python",
   "pygments_lexer": "ipython3",
   "version": "3.9.15"
  },
  "toc": {
   "base_numbering": 1,
   "nav_menu": {},
   "number_sections": true,
   "sideBar": true,
   "skip_h1_title": false,
   "title_cell": "Table of Contents",
   "title_sidebar": "Contents",
   "toc_cell": false,
   "toc_position": {},
   "toc_section_display": true,
   "toc_window_display": false
  },
  "varInspector": {
   "cols": {
    "lenName": 16,
    "lenType": 16,
    "lenVar": 40
   },
   "kernels_config": {
    "python": {
     "delete_cmd_postfix": "",
     "delete_cmd_prefix": "del ",
     "library": "var_list.py",
     "varRefreshCmd": "print(var_dic_list())"
    },
    "r": {
     "delete_cmd_postfix": ") ",
     "delete_cmd_prefix": "rm(",
     "library": "var_list.r",
     "varRefreshCmd": "cat(var_dic_list()) "
    }
   },
   "types_to_exclude": [
    "module",
    "function",
    "builtin_function_or_method",
    "instance",
    "_Feature"
   ],
   "window_display": false
  }
 },
 "nbformat": 4,
 "nbformat_minor": 5
}
